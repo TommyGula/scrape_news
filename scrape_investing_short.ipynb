{
 "cells": [
  {
   "cell_type": "code",
   "execution_count": 37,
   "id": "bde2cf05-804a-4223-9eca-a38702a46690",
   "metadata": {},
   "outputs": [],
   "source": [
    "# Importar librerías\n",
    "\n",
    "import pandas as pd\n",
    "import numpy as np\n",
    "from bs4 import BeautifulSoup\n",
    "from datetime import datetime\n",
    "import yfinance as yf\n",
    "import matplotlib.pyplot as plt\n",
    "import math\n",
    "from textblob import TextBlob\n",
    "\n",
    "# Librerías de Selenium\n",
    "\n",
    "from selenium import webdriver\n",
    "from selenium.webdriver.chrome.options import Options\n",
    "from selenium.webdriver.support.ui import WebDriverWait\n",
    "from selenium.webdriver.support import expected_conditions as EC\n",
    "from selenium.webdriver.common.by import By\n",
    "import time\n",
    "from time import sleep"
   ]
  },
  {
   "cell_type": "code",
   "execution_count": 5,
   "id": "fbdb4794-95c6-44c1-85f7-ffd7806df032",
   "metadata": {},
   "outputs": [],
   "source": [
    "# Scrolls\n",
    "\n",
    "def _count_needed_scrolls(browser, infinite_scroll, numOfPost):\n",
    "    if infinite_scroll:\n",
    "        lenOfPage = browser.execute_script(\n",
    "            \"window.scrollTo(0, document.body.scrollHeight);var lenOfPage=document.body.scrollHeight;return lenOfPage;\"\n",
    "        )\n",
    "    else:\n",
    "        # roughly 8 post per scroll kindaOf\n",
    "        lenOfPage = int(numOfPost / 8)\n",
    "    return lenOfPage\n",
    "\n",
    "\n",
    "def _scroll(browser, infinite_scroll, lenOfPage):\n",
    "    lastCount = -1\n",
    "    match = False\n",
    "\n",
    "    while not match:\n",
    "        if infinite_scroll:\n",
    "            lastCount = lenOfPage\n",
    "        else:\n",
    "            lastCount += 1\n",
    "\n",
    "        # wait for the browser to load, this time can be changed slightly ~3 seconds with no difference, but 5 seems\n",
    "        # to be stable enough\n",
    "        time.sleep(1)\n",
    "\n",
    "        if infinite_scroll:\n",
    "            lenOfPage = browser.execute_script(\n",
    "                \"window.scrollTo(0, document.body.scrollHeight);var lenOfPage=document.body.scrollHeight;return \"\n",
    "                \"lenOfPage;\")\n",
    "        else:\n",
    "            browser.execute_script(\n",
    "                \"window.scrollTo(0, document.body.scrollHeight);var lenOfPage=document.body.scrollHeight;return \"\n",
    "                \"lenOfPage;\")\n",
    "\n",
    "        if lastCount == lenOfPage:\n",
    "            match = True"
   ]
  },
  {
   "cell_type": "code",
   "execution_count": 44,
   "id": "a144128b-9c50-46d1-8b32-91de9306baea",
   "metadata": {},
   "outputs": [],
   "source": [
    "# Scrape titles\n",
    "\n",
    "def headers(n, search_str='BTC'):\n",
    "    option = Options()\n",
    "    option.headless = False\n",
    "    driver = webdriver.Chrome(options=option)\n",
    "    \n",
    "    driver.get(\"https://es.investing.com/search/?tab=news&q=\" + search_str)\n",
    "    driver.maximize_window()\n",
    "\n",
    "    response = []\n",
    "    for x in range(math.ceil(n / 133)):\n",
    "        driver.execute_script(\"window.scrollTo(0, document.body.scrollHeight);\")\n",
    "        time.sleep(2)\n",
    "        try:\n",
    "            WebDriverWait(driver, 5).until(\n",
    "                EC.presence_of_element_located((By.CSS_SELECTOR, \"div[class='articleItem']\"))\n",
    "            )\n",
    "\n",
    "            news = driver.find_elements(By.CSS_SELECTOR, \"div[class='articleItem']\")\n",
    "            print(\"Largo de la cadena\", len(news))\n",
    "\n",
    "            for post in news:\n",
    "                counter = 0\n",
    "                while True:\n",
    "                    try:\n",
    "                        title = post.find_element(By.CSS_SELECTOR, \"div>a[class='title']\")\n",
    "                        font = post.find_element(By.CSS_SELECTOR, \"div[class='articleDetails']>span\")\n",
    "                        #print(font.text)\n",
    "                        date = post.find_element(By.CSS_SELECTOR, \"div[class='articleDetails']>time\")\n",
    "                        #print(date.text)\n",
    "                        response.append({'date': date.text,\n",
    "                                         'title': title.text,\n",
    "                                         'font': font.text}),\n",
    "                                         \n",
    "                                         \n",
    "                        break\n",
    "                    except Exception as exception:\n",
    "                        if counter < 1:\n",
    "                            print(exception.__class__.__name__)\n",
    "                            counter += 1\n",
    "                            sleep(2)\n",
    "                            continue\n",
    "                        else:\n",
    "                            break\n",
    "        finally:\n",
    "            continue\n",
    "    driver.quit()\n",
    "    return response"
   ]
  },
  {
   "cell_type": "code",
   "execution_count": 45,
   "id": "6fb4e988-f1bb-42ff-a7f0-3b36ea1680fe",
   "metadata": {},
   "outputs": [
    {
     "name": "stdout",
     "output_type": "stream",
     "text": [
      "Largo de la cadena 133\n",
      "Largo de la cadena 633\n",
      "Largo de la cadena 2193\n"
     ]
    }
   ],
   "source": [
    "# Obteniendo las noticias\n",
    "\n",
    "tag = \"BTC\"\n",
    "tweets = headers(3 ,tag)"
   ]
  },
  {
   "cell_type": "code",
   "execution_count": 51,
   "id": "02708e95-eccc-493a-bf4e-315a861be44d",
   "metadata": {},
   "outputs": [
    {
     "name": "stdout",
     "output_type": "stream",
     "text": [
      "False    2182\n",
      "True      777\n",
      "Name: title, dtype: int64\n"
     ]
    },
    {
     "data": {
      "text/html": [
       "<div>\n",
       "<style scoped>\n",
       "    .dataframe tbody tr th:only-of-type {\n",
       "        vertical-align: middle;\n",
       "    }\n",
       "\n",
       "    .dataframe tbody tr th {\n",
       "        vertical-align: top;\n",
       "    }\n",
       "\n",
       "    .dataframe thead th {\n",
       "        text-align: right;\n",
       "    }\n",
       "</style>\n",
       "<table border=\"1\" class=\"dataframe\">\n",
       "  <thead>\n",
       "    <tr style=\"text-align: right;\">\n",
       "      <th></th>\n",
       "      <th>date</th>\n",
       "      <th>title</th>\n",
       "      <th>font</th>\n",
       "    </tr>\n",
       "  </thead>\n",
       "  <tbody>\n",
       "    <tr>\n",
       "      <th>0</th>\n",
       "      <td>17.12.2021</td>\n",
       "      <td>Crypto Biz: Todo lo que quiero para Navidad es...</td>\n",
       "      <td>Por CoinTelegraph</td>\n",
       "    </tr>\n",
       "    <tr>\n",
       "      <th>1</th>\n",
       "      <td>17.12.2021</td>\n",
       "      <td>La más reciente oferta de ETF de Valkyrie tien...</td>\n",
       "      <td>Por CoinTelegraph</td>\n",
       "    </tr>\n",
       "    <tr>\n",
       "      <th>2</th>\n",
       "      <td>16.12.2021</td>\n",
       "      <td>Los datos muestran que los inversores minorist...</td>\n",
       "      <td>Por CoinTelegraph</td>\n",
       "    </tr>\n",
       "    <tr>\n",
       "      <th>3</th>\n",
       "      <td>16.12.2021</td>\n",
       "      <td>Un tribunal de Pekín deniega la compensación m...</td>\n",
       "      <td>Por CoinTelegraph</td>\n",
       "    </tr>\n",
       "    <tr>\n",
       "      <th>4</th>\n",
       "      <td>16.12.2021</td>\n",
       "      <td>Analistas esperan un cambio de tendencia de Bi...</td>\n",
       "      <td>Por CoinTelegraph</td>\n",
       "    </tr>\n",
       "    <tr>\n",
       "      <th>...</th>\n",
       "      <td>...</td>\n",
       "      <td>...</td>\n",
       "      <td>...</td>\n",
       "    </tr>\n",
       "    <tr>\n",
       "      <th>2176</th>\n",
       "      <td>18.08.2021</td>\n",
       "      <td>El club de fútbol PSV Eindhoven aceptará un nu...</td>\n",
       "      <td>Por CoinTelegraph</td>\n",
       "    </tr>\n",
       "    <tr>\n",
       "      <th>2177</th>\n",
       "      <td>19.08.2021</td>\n",
       "      <td>El segundo mayor prestamista hipotecario de EE...</td>\n",
       "      <td>Por CoinTelegraph</td>\n",
       "    </tr>\n",
       "    <tr>\n",
       "      <th>2178</th>\n",
       "      <td>11.08.2021</td>\n",
       "      <td>Las altcoins se disparan mientras los alcistas...</td>\n",
       "      <td>Por CoinTelegraph</td>\n",
       "    </tr>\n",
       "    <tr>\n",
       "      <th>2179</th>\n",
       "      <td>12.08.2021</td>\n",
       "      <td>Alex Saunders enfrenta una demanda de USD 350,...</td>\n",
       "      <td>Por CoinTelegraph</td>\n",
       "    </tr>\n",
       "    <tr>\n",
       "      <th>2180</th>\n",
       "      <td>13.08.2021</td>\n",
       "      <td>¿Cómo conseguir criptomonedas gratis?</td>\n",
       "      <td>Por CoinTelegraph</td>\n",
       "    </tr>\n",
       "  </tbody>\n",
       "</table>\n",
       "<p>2181 rows × 3 columns</p>\n",
       "</div>"
      ],
      "text/plain": [
       "            date                                              title  \\\n",
       "0     17.12.2021  Crypto Biz: Todo lo que quiero para Navidad es...   \n",
       "1     17.12.2021  La más reciente oferta de ETF de Valkyrie tien...   \n",
       "2     16.12.2021  Los datos muestran que los inversores minorist...   \n",
       "3     16.12.2021  Un tribunal de Pekín deniega la compensación m...   \n",
       "4     16.12.2021  Analistas esperan un cambio de tendencia de Bi...   \n",
       "...          ...                                                ...   \n",
       "2176  18.08.2021  El club de fútbol PSV Eindhoven aceptará un nu...   \n",
       "2177  19.08.2021  El segundo mayor prestamista hipotecario de EE...   \n",
       "2178  11.08.2021  Las altcoins se disparan mientras los alcistas...   \n",
       "2179  12.08.2021  Alex Saunders enfrenta una demanda de USD 350,...   \n",
       "2180  13.08.2021              ¿Cómo conseguir criptomonedas gratis?   \n",
       "\n",
       "                   font  \n",
       "0     Por CoinTelegraph  \n",
       "1     Por CoinTelegraph  \n",
       "2     Por CoinTelegraph  \n",
       "3     Por CoinTelegraph  \n",
       "4     Por CoinTelegraph  \n",
       "...                 ...  \n",
       "2176  Por CoinTelegraph  \n",
       "2177  Por CoinTelegraph  \n",
       "2178  Por CoinTelegraph  \n",
       "2179  Por CoinTelegraph  \n",
       "2180  Por CoinTelegraph  \n",
       "\n",
       "[2181 rows x 3 columns]"
      ]
     },
     "execution_count": 51,
     "metadata": {},
     "output_type": "execute_result"
    }
   ],
   "source": [
    "# Armar DataFrame\n",
    "df = pd.DataFrame(tweets)\n",
    "\n",
    "# Eliminar duplicados\n",
    "print(df.title.duplicated().value_counts())\n",
    "df_clean = df[(df.title.duplicated() == False) & (df.title != '')].reset_index().drop(['index'], axis=1)\n",
    "df_clean"
   ]
  },
  {
   "cell_type": "code",
   "execution_count": 52,
   "id": "e73c3892-1f57-4291-a080-4842b5b7244b",
   "metadata": {},
   "outputs": [],
   "source": [
    "# Traducir titulos\n",
    "from translate import translate\n",
    "\n",
    "translations = translate(df_clean['title'])"
   ]
  },
  {
   "cell_type": "code",
   "execution_count": 54,
   "id": "14f904ec-bc66-4965-a75d-55d5f4c5da33",
   "metadata": {},
   "outputs": [],
   "source": [
    "# Con lo que tardó en traducir, mejor que me guarde las traducciones\n",
    "\n",
    "df_clean['title_en'] = translations['to']\n",
    "df_clean.to_excel(\"bitcoin_short.xlsx\")"
   ]
  },
  {
   "cell_type": "code",
   "execution_count": 72,
   "id": "5b94d4d6-07c2-444c-9c69-10eb5fa5a739",
   "metadata": {},
   "outputs": [],
   "source": [
    "# Vamos a ver los scores\n",
    "\n",
    "scores = []\n",
    "\n",
    "for title in df_clean.title_en:\n",
    "    scores.append(TextBlob(title).sentiment.polarity)\n",
    "    \n",
    "df_clean['date'] = pd.to_datetime(df_clean['date'], format=\"%d.%m.%Y\", errors='coerce')\n",
    "\n",
    "df_clean['scores'] = scores\n",
    "df_clean.to_excel(\"bitcoin_short.xlsx\")"
   ]
  },
  {
   "cell_type": "code",
   "execution_count": 71,
   "id": "e3b56ee9-418b-4f6a-b812-5bea5290cb61",
   "metadata": {},
   "outputs": [
    {
     "data": {
      "text/plain": [
       "[<matplotlib.lines.Line2D at 0x142c3141730>,\n",
       " <matplotlib.lines.Line2D at 0x142c44dcd90>]"
      ]
     },
     "execution_count": 71,
     "metadata": {},
     "output_type": "execute_result"
    },
    {
     "data": {
      "image/png": "[encoded data removed]",
      "text/plain": [
       "<Figure size 432x288 with 1 Axes>"
      ]
     },
     "metadata": {
      "needs_background": "light"
     },
     "output_type": "display_data"
    }
   ],
   "source": [
    "# Ahora a graficar\n",
    "\n",
    "pivot_df = pd.pivot_table(df_clean, values=\"scores\", index=\"date\", aggfunc=np.mean)\n",
    "pivot_df = pivot_df.sort_values(\"date\")\n",
    "pivot_df['cum_scores'] = np.cumsum(pivot_df.scores)\n",
    "plt.plot(pivot_df[pivot_df.index > \"08-1-2021\"])"
   ]
  }
 ],
 "metadata": {
  "kernelspec": {
   "display_name": "Python 3 (ipykernel)",
   "language": "python",
   "name": "python3"
  },
  "language_info": {
   "codemirror_mode": {
    "name": "ipython",
    "version": 3
   },
   "file_extension": ".py",
   "mimetype": "text/x-python",
   "name": "python",
   "nbconvert_exporter": "python",
   "pygments_lexer": "ipython3",
   "version": "3.9.6"
  }
 },
 "nbformat": 4,
 "nbformat_minor": 5
}
